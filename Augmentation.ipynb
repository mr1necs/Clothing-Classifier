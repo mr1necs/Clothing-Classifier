{
 "cells": [
  {
   "cell_type": "code",
   "execution_count": 1,
   "id": "a3af9604-8daa-4602-99c5-08e4e746529a",
   "metadata": {},
   "outputs": [],
   "source": [
    "import os\n",
    "from tqdm import tqdm\n",
    "import numpy as np\n",
    "from imgaug import augmenters as iaa\n",
    "from PIL import Image"
   ]
  },
  {
   "cell_type": "code",
   "execution_count": 2,
   "id": "74a2907c-88b7-420a-8231-4ad0b45ce8fd",
   "metadata": {},
   "outputs": [],
   "source": [
    "PATH = 'dataset'"
   ]
  },
  {
   "cell_type": "code",
   "execution_count": 3,
   "id": "03e511a9-0441-496b-acce-6d12f9cd40c6",
   "metadata": {},
   "outputs": [],
   "source": [
    "def augment_images_in_folder(folder_path):\n",
    "    # Создаем объект аугментации\n",
    "    seq = iaa.Sequential([\n",
    "        iaa.Fliplr(0.7),\n",
    "        iaa.Flipud(0.7),\n",
    "        iaa.Affine(rotate=(-180, 180)),\n",
    "        iaa.GaussianBlur(sigma=(0, 1.0)),\n",
    "        iaa.AdditiveGaussianNoise(scale=(0, 0.1 * 255))\n",
    "    ])\n",
    "\n",
    "    image_files = os.listdir(folder_path)\n",
    "\n",
    "    bar = tqdm(enumerate(image_files), total=len(image_files), ncols=100)\n",
    "    bar.set_description(f\"Augmentation: \")\n",
    "                    \n",
    "    for i, file_name in bar:\n",
    "        if not file_name.startswith('.'):\n",
    "            image_path = os.path.join(folder_path, file_name)\n",
    "            try:\n",
    "                image = Image.open(image_path)\n",
    "\n",
    "                if image.mode == 'RGBA':\n",
    "                    image = image.convert('RGB')\n",
    "\n",
    "                image_array = np.array(image)\n",
    "                images_aug = [seq.augment_image(image_array) for _ in range(50)]\n",
    "                    \n",
    "                for i, image_aug in enumerate(images_aug):\n",
    "                    class_name = os.path.basename(folder_path)\n",
    "                    new_folder = os.path.join(PATH, f\"{class_name}_aug\")\n",
    "                    os.makedirs(new_folder, exist_ok=True)\n",
    "                    new_file_name = f\"{os.path.splitext(file_name)[0]}_aug_{i}.jpg\"\n",
    "                    Image.fromarray(image_aug).save(os.path.join(new_folder, new_file_name))\n",
    "            except Exception as e:\n",
    "                print(f\"Ошибка при обработке изображения {file_name}: {e}\")\n"
   ]
  },
  {
   "cell_type": "code",
   "execution_count": 4,
   "id": "cee0a257-bcf7-47dd-89b2-7d3a3a769f83",
   "metadata": {},
   "outputs": [],
   "source": [
    "class_folders = [f.path for f in os.scandir(PATH) if f.is_dir()]"
   ]
  },
  {
   "cell_type": "code",
   "execution_count": 5,
   "id": "1dde2b15-70f5-48c3-b987-88543356a93f",
   "metadata": {},
   "outputs": [
    {
     "name": "stderr",
     "output_type": "stream",
     "text": [
      "Augmentation: : 100%|█████████████████████████████████████████████| 305/305 [00:50<00:00,  6.02it/s]\n",
      "Augmentation: : 100%|█████████████████████████████████████████████| 308/308 [00:52<00:00,  5.81it/s]\n"
     ]
    }
   ],
   "source": [
    "for folder in class_folders:\n",
    "    augment_images_in_folder(folder)"
   ]
  },
  {
   "cell_type": "code",
   "execution_count": null,
   "id": "35f6ddef-84e4-48a5-b89b-60a2c707b69f",
   "metadata": {},
   "outputs": [],
   "source": []
  }
 ],
 "metadata": {
  "kernelspec": {
   "display_name": "Python 3 (ipykernel)",
   "language": "python",
   "name": "python3"
  },
  "language_info": {
   "codemirror_mode": {
    "name": "ipython",
    "version": 3
   },
   "file_extension": ".py",
   "mimetype": "text/x-python",
   "name": "python",
   "nbconvert_exporter": "python",
   "pygments_lexer": "ipython3",
   "version": "3.11.7"
  }
 },
 "nbformat": 4,
 "nbformat_minor": 5
}
