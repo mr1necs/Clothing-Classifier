{
 "cells": [
  {
   "cell_type": "code",
   "execution_count": 59,
   "id": "a3af9604-8daa-4602-99c5-08e4e746529a",
   "metadata": {},
   "outputs": [
    {
     "ename": "ImportError",
     "evalue": "cannot import name 'CIFAR10' from 'torchvision.transforms.autoaugment' (/opt/anaconda3/lib/python3.11/site-packages/torchvision/transforms/autoaugment.py)",
     "output_type": "error",
     "traceback": [
      "\u001b[0;31m---------------------------------------------------------------------------\u001b[0m",
      "\u001b[0;31mImportError\u001b[0m                               Traceback (most recent call last)",
      "Cell \u001b[0;32mIn[59], line 4\u001b[0m\n\u001b[1;32m      2\u001b[0m \u001b[38;5;28;01mfrom\u001b[39;00m \u001b[38;5;21;01mtorchvision\u001b[39;00m \u001b[38;5;28;01mimport\u001b[39;00m transforms, datasets\n\u001b[1;32m      3\u001b[0m \u001b[38;5;28;01mimport\u001b[39;00m \u001b[38;5;21;01mPIL\u001b[39;00m\n\u001b[0;32m----> 4\u001b[0m \u001b[38;5;28;01mfrom\u001b[39;00m \u001b[38;5;21;01mtorchvision\u001b[39;00m\u001b[38;5;21;01m.\u001b[39;00m\u001b[38;5;21;01mtransforms\u001b[39;00m\u001b[38;5;21;01m.\u001b[39;00m\u001b[38;5;21;01mautoaugment\u001b[39;00m \u001b[38;5;28;01mimport\u001b[39;00m CIFAR10\n",
      "\u001b[0;31mImportError\u001b[0m: cannot import name 'CIFAR10' from 'torchvision.transforms.autoaugment' (/opt/anaconda3/lib/python3.11/site-packages/torchvision/transforms/autoaugment.py)"
     ]
    }
   ],
   "source": [
    "from torch.utils.data import DataLoader, random_split\n",
    "from torchvision import transforms, datasets\n",
    "import PIL\n",
    "from torchvision.transforms.autoaugment import CIFAR10"
   ]
  },
  {
   "cell_type": "code",
   "execution_count": 33,
   "id": "74a2907c-88b7-420a-8231-4ad0b45ce8fd",
   "metadata": {},
   "outputs": [],
   "source": [
    "PATH = 'dataset'"
   ]
  },
  {
   "cell_type": "code",
   "execution_count": 34,
   "id": "03e511a9-0441-496b-acce-6d12f9cd40c6",
   "metadata": {},
   "outputs": [],
   "source": [
    "def verify_image(fp):\n",
    "    try:\n",
    "        PIL.Image.open(fp).verify()\n",
    "        return True\n",
    "    except:\n",
    "        return False"
   ]
  },
  {
   "cell_type": "code",
   "execution_count": 40,
   "id": "cee0a257-bcf7-47dd-89b2-7d3a3a769f83",
   "metadata": {},
   "outputs": [],
   "source": [
    "transform = transforms.Compose([\n",
    "    transforms.Resize(size=100),\n",
    "    transforms.RandomRotation(degrees=180),\n",
    "    transforms.AutoAugment(),\n",
    "    transforms.ToTensor()\n",
    "    ImageNetPolicy(),\n",
    "])"
   ]
  },
  {
   "cell_type": "code",
   "execution_count": 52,
   "id": "1dde2b15-70f5-48c3-b987-88543356a93f",
   "metadata": {},
   "outputs": [
    {
     "name": "stdout",
     "output_type": "stream",
     "text": [
      "612\n"
     ]
    }
   ],
   "source": [
    "dataset = datasets.ImageFolder(root=PATH, is_valid_file=verify_image)\n",
    "print(len(dataset))"
   ]
  },
  {
   "cell_type": "code",
   "execution_count": 45,
   "id": "546f80a2-b605-45f4-aee9-29b75401ecb3",
   "metadata": {},
   "outputs": [],
   "source": [
    "aa_transform = transforms.AutoAugment()\n",
    "aa_transform.subpolicies = transform\n",
    "dataset = transforms.Compose([\n",
    "                                        aa_transform,\n",
    "                                        transforms.ToTensor()\n",
    "                                    ])"
   ]
  },
  {
   "cell_type": "code",
   "execution_count": 47,
   "id": "83321564-d79d-499b-8320-b1abd4b184ef",
   "metadata": {},
   "outputs": [
    {
     "name": "stdout",
     "output_type": "stream",
     "text": [
      "Compose(\n",
      "    AutoAugment(policy=AutoAugmentPolicy.IMAGENET, fill=None)\n",
      "    ToTensor()\n",
      ")\n"
     ]
    }
   ],
   "source": [
    "print(dataset)"
   ]
  },
  {
   "cell_type": "code",
   "execution_count": null,
   "id": "35f6ddef-84e4-48a5-b89b-60a2c707b69f",
   "metadata": {},
   "outputs": [],
   "source": []
  }
 ],
 "metadata": {
  "kernelspec": {
   "display_name": "Python 3 (ipykernel)",
   "language": "python",
   "name": "python3"
  },
  "language_info": {
   "codemirror_mode": {
    "name": "ipython",
    "version": 3
   },
   "file_extension": ".py",
   "mimetype": "text/x-python",
   "name": "python",
   "nbconvert_exporter": "python",
   "pygments_lexer": "ipython3",
   "version": "3.11.7"
  }
 },
 "nbformat": 4,
 "nbformat_minor": 5
}
